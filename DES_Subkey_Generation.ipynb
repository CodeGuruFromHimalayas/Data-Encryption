{
  "nbformat": 4,
  "nbformat_minor": 0,
  "metadata": {
    "colab": {
      "name": "DES Subkey Generation.ipynb",
      "provenance": [],
      "collapsed_sections": []
    },
    "kernelspec": {
      "name": "python3",
      "display_name": "Python 3"
    }
  },
  "cells": [
    {
      "cell_type": "code",
      "metadata": {
        "id": "BPaUym639hcW"
      },
      "source": [
        "import random\r\n",
        "P1= [57,49,41,33, 25,17,9,1,58,50,42,34,26,18,10,2,59,51,43,35,27,19,11,3,60,52,44,36,63,55,47,39,31,23,15,7,62,54,46,38,30,22,14,6,61,53,45,37,29,21,13,25,28,20,12,4]\r\n",
        "P2= [14,17,11,24,1,5,3,28,15,6,21,10,23,19,12,4,26,8,16,7, 27,20,13,2,41,52,31,37,47,55,30,40,51,45,33,48,44,49,39,56,34,53,46,42,50,36,29,32]"
      ],
      "execution_count": null,
      "outputs": []
    },
    {
      "cell_type": "code",
      "metadata": {
        "id": "UhmrNPrzEitl"
      },
      "source": [
        "#function to generate key of given number of bits \r\n",
        "def Keygen(l):\r\n",
        "  str1=\"\"\r\n",
        "  for i in range(l):\r\n",
        "    str1=str1+str(random.randint(0,1)) #randomly generate a 0 or 1\r\n",
        "  return str1"
      ],
      "execution_count": null,
      "outputs": []
    },
    {
      "cell_type": "code",
      "metadata": {
        "id": "6QRB9BFNUQlz"
      },
      "source": [
        "#Permutation function\r\n",
        "def Permi(str1,P): \r\n",
        "  key=\"\"\r\n",
        "  for i in range(len(P)):\r\n",
        "    a=P[i]-1\r\n",
        "    key=key+str1[a]\r\n",
        "  return key"
      ],
      "execution_count": null,
      "outputs": []
    },
    {
      "cell_type": "code",
      "metadata": {
        "id": "GHn11yheXYrj"
      },
      "source": [
        "def halfstring(str1): #Dividing 56-bit key into 2 parts \r\n",
        "  length=len(str1)\r\n",
        "  mid=int(len(str1)/2)\r\n",
        "  l_half=str1[0:mid]\r\n",
        "  r_half=str1[mid::]\r\n",
        "  return l_half,r_half"
      ],
      "execution_count": null,
      "outputs": []
    },
    {
      "cell_type": "code",
      "metadata": {
        "id": "VURUogHfaK6A"
      },
      "source": [
        "def LeftShift(str1,n): #left shift function that shift the string\r\n",
        "  shift=str1[n::]+str1[0:n] #slicing the string to shift left\r\n",
        "  return shift"
      ],
      "execution_count": null,
      "outputs": []
    },
    {
      "cell_type": "code",
      "metadata": {
        "colab": {
          "base_uri": "https://localhost:8080/"
        },
        "id": "IX-D1y8AuMN4",
        "outputId": "8c5438ce-ed37-4527-e8d1-612caa715f07"
      },
      "source": [
        "str_ip=Keygen(64)\r\n",
        "str_P1=Permi(str_ip,P1)\r\n",
        "str_temp=str_P1\r\n",
        "keys=[]\r\n",
        "for i in range(16):\r\n",
        "    \r\n",
        "    str_l,str_r=halfstring(str_temp)\r\n",
        "    if (i==0 or i==1 or i==8 or i==15):\r\n",
        "      shift=1\r\n",
        "    else:\r\n",
        "      shift=2 \r\n",
        "    str_l=LeftShift(str_l,shift)\r\n",
        "    str_r=LeftShift(str_r,shift)\r\n",
        "    str_temp=str_l+str_r\r\n",
        "    str_P2=Permi(str_temp,P2)\r\n",
        "    keys.append(str_P2)\r\n",
        "print(\"the sub-keys are:- \\n \")   \r\n",
        "for i in keys:\r\n",
        "    print(str(keys.index(i)+1)+\":\"+i)  "
      ],
      "execution_count": null,
      "outputs": [
        {
          "output_type": "stream",
          "text": [
            "the sub-keys are:- \n",
            " \n",
            "1:111010011110000110100111010011001000011101010111\n",
            "2:100011111001011000101110111001001001000111111000\n",
            "3:111010100001101011001010010000011011111001101111\n",
            "4:001110001111101001101000011111101001110010111000\n",
            "5:100000000111110101011010000010010101110101111111\n",
            "6:011001000110111101010101000011111111100010110000\n",
            "7:010001111111110100000001111000010100110101110101\n",
            "8:010010111010010111110011100010111000101010011110\n",
            "9:100010111100001000111101100100010010011101111010\n",
            "10:100011010001101110101010101111011011101000000100\n",
            "11:101100100011101011101001011100000110011011110110\n",
            "12:100110010111111001000000001111011010100010001111\n",
            "13:010000000111111111011100101001100111010011010011\n",
            "14:010101001111010101000101001011111010001101100111\n",
            "15:010000111100110101100011101101101100110111000010\n",
            "16:110011101010001000111001010101110011100101001110\n"
          ],
          "name": "stdout"
        }
      ]
    }
  ]
}