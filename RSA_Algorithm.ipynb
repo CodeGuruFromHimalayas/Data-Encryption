{
  "nbformat": 4,
  "nbformat_minor": 0,
  "metadata": {
    "colab": {
      "name": "RSA Algorithm.ipynb",
      "provenance": [],
      "collapsed_sections": []
    },
    "kernelspec": {
      "name": "python3",
      "display_name": "Python 3"
    }
  },
  "cells": [
    {
      "cell_type": "code",
      "metadata": {
        "id": "tai9-T3fzxtH"
      },
      "source": [
        "import math\r\n",
        "import random"
      ],
      "execution_count": null,
      "outputs": []
    },
    {
      "cell_type": "code",
      "metadata": {
        "id": "fD_-onvSDqpO"
      },
      "source": [
        "def factor(n,f):\r\n",
        "   if (n>f):\r\n",
        "      return (n%f==0)\r\n",
        "   else:\r\n",
        "      print(\"Value of E is greater than (p-1)*(q-1)\")"
      ],
      "execution_count": null,
      "outputs": []
    },
    {
      "cell_type": "code",
      "metadata": {
        "id": "6510fXY5Ic1B"
      },
      "source": [
        "def e_euclidean(r1,r2,s1,s2,t1,t2): #extended euclidean thorugh recursive function\r\n",
        "  if (r2==0):\r\n",
        "     return [r1,s1,s2,t1,t2] #return final result when \r\n",
        "  else:\r\n",
        "     q=int(r1/r2)\r\n",
        "     return e_euclidean(r2,(r1-q*r2),s2,s1-q*s2,t2,t1-q*t2)#q=r1/r2 r1=r2 r2=r1-q*r2(previous) s1=s2 s2=s1-q*s2(previous) t1=t2 t2=t1-q*t2(previous) "
      ],
      "execution_count": null,
      "outputs": []
    },
    {
      "cell_type": "code",
      "metadata": {
        "id": "3-hHOIdQi9xX"
      },
      "source": [
        "# smaller than n, using segmented sieve \r\n",
        "def simpleSieve(limit):\r\n",
        "    prime=[]\r\n",
        "    # Create a boolean list \"mark[0..n-1]\" and initialize all entries of it as True. \r\n",
        "    mark = [True for i in range(limit + 1)]\r\n",
        "    p = 2\r\n",
        "    while (p * p <= limit):\r\n",
        "         \r\n",
        "        # If p is not changed, then it is a prime \r\n",
        "        if (mark[p] == True): \r\n",
        "             \r\n",
        "            # Update all multiples of p \r\n",
        "            for i in range(p * p, limit + 1, p): \r\n",
        "                mark[i] = False \r\n",
        "        p += 1\r\n",
        "         \r\n",
        "    # store prime numbers in prime \r\n",
        "    for p in range(2, limit): \r\n",
        "        if mark[p]:\r\n",
        "            prime.append(p)\r\n",
        "    return prime         "
      ],
      "execution_count": null,
      "outputs": []
    },
    {
      "cell_type": "code",
      "metadata": {
        "id": "NUXNmam6qk_I",
        "colab": {
          "base_uri": "https://localhost:8080/"
        },
        "outputId": "d028d55b-7888-458c-a2e7-c7e29efa43ce"
      },
      "source": [
        "a=1\r\n",
        "l_prime=[]\r\n",
        "while (a==1):\r\n",
        "   limit=int(input(\"Input a number till which you want prime numbers: \")) #enter limit that the sieve will use \r\n",
        "   if (limit>1):\r\n",
        "      l_prime=simpleSieve(limit)\r\n",
        "      a=0  \r\n",
        "   else:\r\n",
        "      print(\"Please Enter a number greater than 1\")   \r\n",
        " \r\n",
        "P=random.choice(l_prime) #random select P from list of prime numbers \r\n",
        "\r\n",
        "a=1\r\n",
        "Q=random.choice(l_prime) \r\n",
        "while (a==1): #Randomly select Q from list of prime numbers such that Q!=P\r\n",
        "   if Q==P:\r\n",
        "     Q=random.choice(l_prime)\r\n",
        "   else:\r\n",
        "     a=0\r\n",
        "N=P*Q\r\n",
        "print(\"P= \"+str(P)+\"\\nQ= \"+str(Q)+\"\\nN= \"+str(N))\r\n",
        "r=(P-1)*(Q-1) \r\n",
        "e_list=[] #List of all valid E  \r\n",
        "for i in range(r):\r\n",
        "  temp=e_euclidean(r,i,1,0,0,1)[0]\r\n",
        "  if temp==1:\r\n",
        "    e_list.append(i) \r\n",
        "E=random.choice(e_list) #randomly pick E \r\n",
        "print(\"The value of E chosen is: E= \"+str(E))  \r\n",
        "d_list=[] # to create respective values of D in list \r\n",
        "for i in e_list:\r\n",
        "    d_list.append(privatekey(i,P,Q))\r\n",
        "D=d_list[e_list.index(E)]\r\n",
        "print(\"The value of D for the chosen E is: D= \"+str(D))\r\n",
        "\r\n",
        "str1=input(\"Enter the text:\") #Enter text to be encrypted \r\n",
        "res_list=[]\r\n",
        "for i in str1: #save the acsii value of each character in a list \r\n",
        "  res_list.append(ord(i))\r\n",
        "count=1\r\n",
        "str_temp=\"\"\r\n",
        "str_encrypt=\"\"\r\n",
        "for i in res_list: #use the ascii value of the character to encrpyt it and give encrpyted text \r\n",
        "   c=encrypt(i,E,N)\r\n",
        "   str_encrypt+=chr(c)\r\n",
        "print(\"The encrypted string is: \"+str_encrypt)\r\n",
        "\r\n",
        "str_decrypt=\"\"\r\n",
        "for i in str_encrypt: #use the ascii value of the character to decrpyt it and give original text\r\n",
        "   c=ord(i)\r\n",
        "   p=decrypt(c,D,N)\r\n",
        "   str_decrypt+=chr(p)\r\n",
        "print(\"The decrypted string is: \"+str_decrypt)   \r\n"
      ],
      "execution_count": null,
      "outputs": [
        {
          "output_type": "stream",
          "text": [
            "Input a number till which you want prime numbers: 100\n",
            "P= 5\n",
            "Q= 97\n",
            "N= 485\n",
            "The value of E chosen is: E= 83\n",
            "The value of D for the chosen E is: D= 347\n",
            "Enter the text:This Sentence is Encrypted\n",
            "The encrypted string is: ǋĺƟƐ£ƿyÜƠyÜǚy£ƟƐ£àÜǚeƠyǌ\n",
            "The decrypted string is: This Sentence is Encrypted\n"
          ],
          "name": "stdout"
        }
      ]
    },
    {
      "cell_type": "code",
      "metadata": {
        "id": "X50lIx_4nMUA"
      },
      "source": [
        "def privatekey(e,p,q):\r\n",
        "  n=(p-1)*(q-1)\r\n",
        "  d=e_euclidean(n,e,1,0,0,1)[3] #multiplicative inverse\r\n",
        "  if 0<d<n: #mod range \r\n",
        "     return d\r\n",
        "  else:\r\n",
        "     return d+n       "
      ],
      "execution_count": null,
      "outputs": []
    },
    {
      "cell_type": "code",
      "metadata": {
        "id": "lLjCb7IBDLiG"
      },
      "source": [
        "def encrypt(p,e,n): #RSA encryption function \r\n",
        "  c=(p**e)%n \r\n",
        "  return c"
      ],
      "execution_count": null,
      "outputs": []
    },
    {
      "cell_type": "code",
      "metadata": {
        "id": "6FiOn60RhxiF"
      },
      "source": [
        "def decrypt(c,d,n): #RSA decryption function \r\n",
        "  p=(c**d)%n\r\n",
        "  return p"
      ],
      "execution_count": null,
      "outputs": []
    }
  ]
}