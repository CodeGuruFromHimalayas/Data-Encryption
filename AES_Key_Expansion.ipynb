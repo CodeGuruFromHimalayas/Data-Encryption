{
  "nbformat": 4,
  "nbformat_minor": 0,
  "metadata": {
    "colab": {
      "name": "GitHub AES Key Expansion.ipynb",
      "provenance": [],
      "collapsed_sections": []
    },
    "kernelspec": {
      "name": "python3",
      "display_name": "Python 3"
    }
  },
  "cells": [
    {
      "cell_type": "code",
      "metadata": {
        "id": "mmj24-DI3Yop"
      },
      "source": [
        "import numpy as np\r\n",
        "import random\r\n",
        "import pandas as pd\r\n",
        "sbox = [['63', '7c', '77', '7b', 'f2', '6b', '6f', 'c5', '30', '01', '67', '2b', 'fe', 'd7', 'ab', '76'], #substitution table \r\n",
        "        ['ca', '82', 'c9', '7d', 'fa', '59', '47', 'f0', 'ad', 'd4', 'a2', 'af', '9c', 'a4', '72', 'c0'],\r\n",
        "        ['b7', 'fd', '93', '26', '36', '3f', 'f7', 'cc', '34', 'a5', 'e5', 'f1', '71', 'd8', '31', '15'],\r\n",
        "        ['04', 'c7', '23', 'c3', '18', '96', '05', '9a', '07', '12', '80', 'e2', 'eb', '27', 'b2', '75'],\r\n",
        "        ['09', '83', '2c', '1a', '1b', '6e', '5a', 'a0', '52', '3b', 'd6', 'b3', '29', 'e3', '2f', '84'],\r\n",
        "        ['53', 'd1', '00', 'ed', '20', 'fc', 'b1', '5b', '6a', 'cb', 'be', '39', '4a', '4c', '58', 'cf'],\r\n",
        "        ['d0', 'ef', 'aa', 'fb', '43', '4d', '33', '85', '45', 'f9', '02', '7f', '50', '3c', '9f', 'a8'],\r\n",
        "        ['51', 'a3', '40', '8f', '92', '9d', '38', 'f5', 'bc', 'b6', 'da', '21', '10', 'ff', 'f3', 'd2'],\r\n",
        "        ['cd', '0c', '13', 'ec', '5f', '97', '44', '17', 'c4', 'a7', '7e', '3d', '64', '5d', '19', '73'],\r\n",
        "        ['60', '81', '4f', 'dc', '22', '2a', '90', '88', '46', 'ee', 'b8', '14', 'de', '5e', '0b', 'db'],\r\n",
        "        ['e0', '32', '3a', '0a', '49', '06', '24', '5c', 'c2', 'd3', 'ac', '62', '91', '95', 'e4', '79'],\r\n",
        "        ['e7', 'c8', '37', '6d', '8d', 'd5', '4e', 'a9', '6c', '56', 'f4', 'ea', '65', '7a', 'ae', '08'],\r\n",
        "        ['ba', '78', '25', '2e', '1c', 'a6', 'b4', 'c6', 'e8', 'dd', '74', '1f', '4b', 'bd', '8b', '8a'],\r\n",
        "        ['70', '3e', 'b5', '66', '48', '03', 'f6', '0e', '61', '35', '57', 'b9', '86', 'c1', '1d', '9e'],\r\n",
        "        ['e1', 'f8', '98', '11', '69', 'd9', '8e', '94', '9b', '1e', '87', 'e9', 'ce', '55', '28', 'df'],\r\n",
        "        ['8c', 'a1', '89', '0d', 'bf', 'e6', '42', '68', '41', '99', '2d', '0f', 'b0', '54', 'bb', '16']]     \r\n",
        "Rcon = ['00000000', '01000000', '02000000',\r\n",
        "        '04000000', '08000000', '10000000', \r\n",
        "        '20000000', '40000000', '80000000', \r\n",
        "        '1b000000', '36000000']           \r\n"
      ],
      "execution_count": null,
      "outputs": []
    },
    {
      "cell_type": "code",
      "metadata": {
        "id": "E4h6wBlX5nr-"
      },
      "source": [
        "def groupbytes(key): #extracting bytes from the given hex stream\r\n",
        "  key_l=[]\r\n",
        "  try:\r\n",
        "    for i in range(0,len(key),2): #increment in steps of 2 \r\n",
        "      key_l.append(key[i]+key[i+1])\r\n",
        "  except:\r\n",
        "    print('')\r\n",
        "  return key_l"
      ],
      "execution_count": null,
      "outputs": []
    },
    {
      "cell_type": "code",
      "metadata": {
        "id": "fTRqz3GD8pf-"
      },
      "source": [
        "def word_extraction(str1): #function to extract four words of 4-bytes each from hex stream\r\n",
        "   temp=''\r\n",
        "   w_list=[]#list of words\r\n",
        "   count=1\r\n",
        "   for i in str1:\r\n",
        "      temp=temp+i\r\n",
        "      if (count%8==0):\r\n",
        "        w_list.append(str(temp))\r\n",
        "        temp='' \r\n",
        "      count=count+1  \r\n",
        "   return w_list  "
      ],
      "execution_count": null,
      "outputs": []
    },
    {
      "cell_type": "code",
      "metadata": {
        "id": "AFsWG36fujDb"
      },
      "source": [
        "def subword(str1): #Substitue values in 32 bit word using the substitution table\r\n",
        "  g=groupbytes(str1)\r\n",
        "  str_result=''\r\n",
        "  for i in g:\r\n",
        "    row=int(i[0],16)\r\n",
        "    column=int(i[1],16)\r\n",
        "    str_result=str_result+sbox[row][column]\r\n",
        "  return str_result"
      ],
      "execution_count": null,
      "outputs": []
    },
    {
      "cell_type": "code",
      "metadata": {
        "id": "g6nKkn3l3tqH"
      },
      "source": [
        "def rotword(str1): #left shift function that shifts a word\r\n",
        "  shift=str1[2::]+str1[0:2] #slicing the string to shift left since 2 characters is 1 word we shift by 2\r\n",
        "  return shift"
      ],
      "execution_count": null,
      "outputs": []
    },
    {
      "cell_type": "code",
      "metadata": {
        "id": "2uxNzxlb3fvp"
      },
      "source": [
        "def t_generate(R,W1,round): #Generate variable t\r\n",
        "   shift_w=rotword(W1)\r\n",
        "   sub_w=subword(shift_w)\r\n",
        "   l=R[round]\r\n",
        "   str_result=hexxor(l,sub_w)    \r\n",
        "   return str_result"
      ],
      "execution_count": null,
      "outputs": []
    },
    {
      "cell_type": "code",
      "metadata": {
        "id": "SRLN4cDB20Yp"
      },
      "source": [
        "def hexxor(hex1,hex2): #Xoring to hex numbers \r\n",
        "  str1=str(hex(int(hex1,16) ^ int(hex2,16) )).replace(\"0x\",'')\r\n",
        "  a=len(str1)\r\n",
        "  while (len(str1)<8):\r\n",
        "      str1='0'+str1\r\n",
        "  return str1    "
      ],
      "execution_count": null,
      "outputs": []
    },
    {
      "cell_type": "code",
      "metadata": {
        "colab": {
          "base_uri": "https://localhost:8080/",
          "height": 390
        },
        "id": "iM8cf8id6kDL",
        "outputId": "0542f2c8-9688-4bef-858f-e1e38f7a2679"
      },
      "source": [
        "#AES key expansion algorithm \r\n",
        "key=input(\"Enter 32-length hex key: \")\r\n",
        "word=word_extraction(key) #list of words\r\n",
        "t_list=[\"-\"] #temporary variable list \r\n",
        "for i in range(4,44):\r\n",
        "    if (i%4==0):\r\n",
        "      round=int((i/4))\r\n",
        "      t=t_generate(Rcon,word[i-1],round)\r\n",
        "      t_list.append(t)\r\n",
        "      w=hexxor(t,word[i-4]) #new word \r\n",
        "      word.append(w)\r\n",
        "    else:\r\n",
        "      w=hexxor(word[i-4],word[i-1])\r\n",
        "      word.append(w)  \r\n",
        "word_array=np.array(word).reshape(11,4)\r\n",
        "index_list=[]\r\n",
        "for i in range(0,11):\r\n",
        "   index_list.append(\"Round \"+str(i))\r\n",
        "\r\n",
        "df1=pd.DataFrame(word_array, columns=['First Word ','Second Word','Third Word','Fourth Word'], index=[i for i in index_list])\r\n",
        "df2=pd.DataFrame(t_list, columns=['T_value'],index=[i for i in index_list]) \r\n",
        "df=pd.concat([df2, df1], axis=1) #generate word and t value dataframe\r\n",
        "df\r\n",
        "#Key used is 2475a2b33475568831e2120013aa5487"
      ],
      "execution_count": null,
      "outputs": [
        {
          "output_type": "stream",
          "text": [
            "Enter 32-length hex key: 2475a2b33475568831e2120013aa5487\n"
          ],
          "name": "stdout"
        },
        {
          "output_type": "execute_result",
          "data": {
            "text/html": [
              "<div>\n",
              "<style scoped>\n",
              "    .dataframe tbody tr th:only-of-type {\n",
              "        vertical-align: middle;\n",
              "    }\n",
              "\n",
              "    .dataframe tbody tr th {\n",
              "        vertical-align: top;\n",
              "    }\n",
              "\n",
              "    .dataframe thead th {\n",
              "        text-align: right;\n",
              "    }\n",
              "</style>\n",
              "<table border=\"1\" class=\"dataframe\">\n",
              "  <thead>\n",
              "    <tr style=\"text-align: right;\">\n",
              "      <th></th>\n",
              "      <th>T_value</th>\n",
              "      <th>First Word</th>\n",
              "      <th>Second Word</th>\n",
              "      <th>Third Word</th>\n",
              "      <th>Fourth Word</th>\n",
              "    </tr>\n",
              "  </thead>\n",
              "  <tbody>\n",
              "    <tr>\n",
              "      <th>Round 0</th>\n",
              "      <td>-</td>\n",
              "      <td>2475a2b3</td>\n",
              "      <td>34755688</td>\n",
              "      <td>31e21200</td>\n",
              "      <td>13aa5487</td>\n",
              "    </tr>\n",
              "    <tr>\n",
              "      <th>Round 1</th>\n",
              "      <td>ad20177d</td>\n",
              "      <td>8955b5ce</td>\n",
              "      <td>bd20e346</td>\n",
              "      <td>8cc2f146</td>\n",
              "      <td>9f68a5c1</td>\n",
              "    </tr>\n",
              "    <tr>\n",
              "      <th>Round 2</th>\n",
              "      <td>470678db</td>\n",
              "      <td>ce53cd15</td>\n",
              "      <td>73732e53</td>\n",
              "      <td>ffb1df15</td>\n",
              "      <td>60d97ad4</td>\n",
              "    </tr>\n",
              "    <tr>\n",
              "      <th>Round 3</th>\n",
              "      <td>31da48d0</td>\n",
              "      <td>ff8985c5</td>\n",
              "      <td>8cfaab96</td>\n",
              "      <td>734b7483</td>\n",
              "      <td>13920e57</td>\n",
              "    </tr>\n",
              "    <tr>\n",
              "      <th>Round 4</th>\n",
              "      <td>47ab5b7d</td>\n",
              "      <td>b822deb8</td>\n",
              "      <td>34d8752e</td>\n",
              "      <td>479301ad</td>\n",
              "      <td>54010ffa</td>\n",
              "    </tr>\n",
              "    <tr>\n",
              "      <th>Round 5</th>\n",
              "      <td>6c762d20</td>\n",
              "      <td>d454f398</td>\n",
              "      <td>e08c86b6</td>\n",
              "      <td>a71f871b</td>\n",
              "      <td>f31e88e1</td>\n",
              "    </tr>\n",
              "    <tr>\n",
              "      <th>Round 6</th>\n",
              "      <td>52c4f80d</td>\n",
              "      <td>86900b95</td>\n",
              "      <td>661c8d23</td>\n",
              "      <td>c1030a38</td>\n",
              "      <td>321d82d9</td>\n",
              "    </tr>\n",
              "    <tr>\n",
              "      <th>Round 7</th>\n",
              "      <td>e4133523</td>\n",
              "      <td>62833eb6</td>\n",
              "      <td>049fb395</td>\n",
              "      <td>c59cb9ad</td>\n",
              "      <td>f7813b74</td>\n",
              "    </tr>\n",
              "    <tr>\n",
              "      <th>Round 8</th>\n",
              "      <td>8ce29268</td>\n",
              "      <td>ee61acde</td>\n",
              "      <td>eafe1f4b</td>\n",
              "      <td>2f62a6e6</td>\n",
              "      <td>d8e39d92</td>\n",
              "    </tr>\n",
              "    <tr>\n",
              "      <th>Round 9</th>\n",
              "      <td>0a5e4f61</td>\n",
              "      <td>e43fe3bf</td>\n",
              "      <td>0ec1fcf4</td>\n",
              "      <td>21a35a12</td>\n",
              "      <td>f940c780</td>\n",
              "    </tr>\n",
              "    <tr>\n",
              "      <th>Round 10</th>\n",
              "      <td>3fc6cd99</td>\n",
              "      <td>dbf92e26</td>\n",
              "      <td>d538d2d2</td>\n",
              "      <td>f49b88c0</td>\n",
              "      <td>0ddb4f40</td>\n",
              "    </tr>\n",
              "  </tbody>\n",
              "</table>\n",
              "</div>"
            ],
            "text/plain": [
              "           T_value First Word  Second Word Third Word Fourth Word\n",
              "Round 0          -    2475a2b3    34755688   31e21200    13aa5487\n",
              "Round 1   ad20177d    8955b5ce    bd20e346   8cc2f146    9f68a5c1\n",
              "Round 2   470678db    ce53cd15    73732e53   ffb1df15    60d97ad4\n",
              "Round 3   31da48d0    ff8985c5    8cfaab96   734b7483    13920e57\n",
              "Round 4   47ab5b7d    b822deb8    34d8752e   479301ad    54010ffa\n",
              "Round 5   6c762d20    d454f398    e08c86b6   a71f871b    f31e88e1\n",
              "Round 6   52c4f80d    86900b95    661c8d23   c1030a38    321d82d9\n",
              "Round 7   e4133523    62833eb6    049fb395   c59cb9ad    f7813b74\n",
              "Round 8   8ce29268    ee61acde    eafe1f4b   2f62a6e6    d8e39d92\n",
              "Round 9   0a5e4f61    e43fe3bf    0ec1fcf4   21a35a12    f940c780\n",
              "Round 10  3fc6cd99    dbf92e26    d538d2d2   f49b88c0    0ddb4f40"
            ]
          },
          "metadata": {
            "tags": []
          },
          "execution_count": 108
        }
      ]
    }
  ]
}